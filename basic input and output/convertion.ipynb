{
 "cells": [
  {
   "cell_type": "code",
   "execution_count": null,
   "id": "b5dc74a3",
   "metadata": {},
   "outputs": [],
   "source": [
    "base conversation"
   ]
  },
  {
   "cell_type": "markdown",
   "id": "6a193d66",
   "metadata": {},
   "source": [
    "# decimal of binary"
   ]
  },
  {
   "cell_type": "code",
   "execution_count": 1,
   "id": "d497ff2c",
   "metadata": {},
   "outputs": [
    {
     "name": "stdout",
     "output_type": "stream",
     "text": [
      "0b111\n",
      "<class 'str'>\n"
     ]
    }
   ],
   "source": [
    "a=7\n",
    "b=bin(a)\n",
    "print(b)\n",
    "print(type(b))"
   ]
  },
  {
   "cell_type": "markdown",
   "id": "c207547e",
   "metadata": {},
   "source": [
    "# decimal of octal"
   ]
  },
  {
   "cell_type": "code",
   "execution_count": 3,
   "id": "893ec043",
   "metadata": {},
   "outputs": [
    {
     "name": "stdout",
     "output_type": "stream",
     "text": [
      "0o11\n",
      "<class 'str'>\n"
     ]
    }
   ],
   "source": [
    "a=9\n",
    "b=oct(a)\n",
    "print(b)\n",
    "print(type(b))"
   ]
  },
  {
   "cell_type": "markdown",
   "id": "fe15e195",
   "metadata": {},
   "source": [
    "# decimal of hexa"
   ]
  },
  {
   "cell_type": "code",
   "execution_count": 4,
   "id": "f725f247",
   "metadata": {},
   "outputs": [
    {
     "name": "stdout",
     "output_type": "stream",
     "text": [
      "0x9\n",
      "<class 'str'>\n"
     ]
    }
   ],
   "source": [
    "a=9\n",
    "b=hex(a)\n",
    "print(b)\n",
    "print(type(b))"
   ]
  },
  {
   "cell_type": "markdown",
   "id": "2aef2e7e",
   "metadata": {},
   "source": [
    "# binary to octadecimal,hexadecimal and decimal"
   ]
  },
  {
   "cell_type": "code",
   "execution_count": 6,
   "id": "9c2ea85c",
   "metadata": {},
   "outputs": [
    {
     "name": "stdout",
     "output_type": "stream",
     "text": [
      "0o11\n",
      "0x9\n",
      "9\n"
     ]
    }
   ],
   "source": [
    "a=0b1001\n",
    "print(oct(a))\n",
    "print(hex(a))\n",
    "print(int(a))"
   ]
  },
  {
   "cell_type": "markdown",
   "id": "6701d246",
   "metadata": {},
   "source": [
    "# python indentation"
   ]
  },
  {
   "cell_type": "code",
   "execution_count": 8,
   "id": "75485413",
   "metadata": {},
   "outputs": [
    {
     "name": "stdout",
     "output_type": "stream",
     "text": [
      "enter marks56\n",
      "you are pass\n"
     ]
    }
   ],
   "source": [
    "marks=int(input('enter marks'))\n",
    "if marks>50:\n",
    "    print('you are pass')\n",
    "else:\n",
    "    print('you are fail')"
   ]
  },
  {
   "cell_type": "markdown",
   "id": "82a8dd0d",
   "metadata": {},
   "source": [
    "# comments"
   ]
  },
  {
   "cell_type": "code",
   "execution_count": 9,
   "id": "c3494b74",
   "metadata": {},
   "outputs": [
    {
     "name": "stdout",
     "output_type": "stream",
     "text": [
      "26\n"
     ]
    }
   ],
   "source": [
    "#addition of two numbers in single line coment\n",
    "a=14\n",
    "b=12\n",
    "c=a+b\n",
    "print(c)"
   ]
  },
  {
   "cell_type": "code",
   "execution_count": 10,
   "id": "87f35ad0",
   "metadata": {},
   "outputs": [
    {
     "name": "stdout",
     "output_type": "stream",
     "text": [
      "26\n"
     ]
    }
   ],
   "source": [
    "#addition of two number in multiline comment\n",
    "a=14\n",
    "b=12\n",
    "c=a+b\n",
    "print(c)"
   ]
  },
  {
   "cell_type": "markdown",
   "id": "d0719884",
   "metadata": {},
   "source": [
    "# type casting or type conversion"
   ]
  },
  {
   "cell_type": "code",
   "execution_count": 11,
   "id": "e5fc5c3b",
   "metadata": {},
   "outputs": [
    {
     "name": "stdout",
     "output_type": "stream",
     "text": [
      "11.6\n",
      "<class 'float'>\n"
     ]
    }
   ],
   "source": [
    "x=5\n",
    "y=6.6\n",
    "sum=x+y\n",
    "print(sum)\n",
    "print(type(sum))"
   ]
  },
  {
   "cell_type": "code",
   "execution_count": null,
   "id": "f150c640",
   "metadata": {},
   "outputs": [],
   "source": [
    "explict type conversion"
   ]
  },
  {
   "cell_type": "code",
   "execution_count": null,
   "id": "59a87a23",
   "metadata": {},
   "outputs": [],
   "source": [
    "1.int()"
   ]
  },
  {
   "cell_type": "code",
   "execution_count": 12,
   "id": "5e7d86b4",
   "metadata": {},
   "outputs": [
    {
     "name": "stdout",
     "output_type": "stream",
     "text": [
      "<class 'int'>\n"
     ]
    }
   ],
   "source": [
    "a=17\n",
    "print(type(a))"
   ]
  },
  {
   "cell_type": "code",
   "execution_count": null,
   "id": "49386a59",
   "metadata": {},
   "outputs": [],
   "source": [
    "int to str"
   ]
  },
  {
   "cell_type": "code",
   "execution_count": 13,
   "id": "79ff53f1",
   "metadata": {},
   "outputs": [
    {
     "name": "stdout",
     "output_type": "stream",
     "text": [
      "17\n",
      "<class 'str'>\n"
     ]
    }
   ],
   "source": [
    "a_str= str(a)\n",
    "print(a_str)\n",
    "print(type(a_str))"
   ]
  },
  {
   "cell_type": "code",
   "execution_count": null,
   "id": "0f9b8b75",
   "metadata": {},
   "outputs": [],
   "source": [
    "int to float"
   ]
  },
  {
   "cell_type": "code",
   "execution_count": 14,
   "id": "a0a9f68d",
   "metadata": {},
   "outputs": [
    {
     "name": "stdout",
     "output_type": "stream",
     "text": [
      "17.0\n",
      "<class 'float'>\n"
     ]
    }
   ],
   "source": [
    "a_float=float(a)\n",
    "print(a_float)\n",
    "print(type(a_float))"
   ]
  },
  {
   "cell_type": "code",
   "execution_count": null,
   "id": "647ab30e",
   "metadata": {},
   "outputs": [],
   "source": [
    "int to boolean"
   ]
  },
  {
   "cell_type": "code",
   "execution_count": null,
   "id": "a89758d3",
   "metadata": {},
   "outputs": [],
   "source": [
    "b=-7"
   ]
  },
  {
   "cell_type": "code",
   "execution_count": 15,
   "id": "a1f31f53",
   "metadata": {},
   "outputs": [
    {
     "name": "stdout",
     "output_type": "stream",
     "text": [
      "True\n",
      "<class 'bool'>\n"
     ]
    }
   ],
   "source": [
    "a_bool=bool(b)\n",
    "print(a_bool)\n",
    "print(type(a_bool))"
   ]
  },
  {
   "cell_type": "code",
   "execution_count": 16,
   "id": "b166b373",
   "metadata": {},
   "outputs": [
    {
     "name": "stdout",
     "output_type": "stream",
     "text": [
      "True\n",
      "<class 'bool'>\n"
     ]
    }
   ],
   "source": [
    "a_bool=bool(a)\n",
    "print(a_bool)\n",
    "print(type(a_bool))"
   ]
  },
  {
   "cell_type": "code",
   "execution_count": 18,
   "id": "5710cde1",
   "metadata": {},
   "outputs": [
    {
     "name": "stdout",
     "output_type": "stream",
     "text": [
      "False\n",
      "<class 'bool'>\n"
     ]
    }
   ],
   "source": [
    "a=0\n",
    "a_bool=bool(a)\n",
    "print(a_bool)\n",
    "print(type(a_bool))"
   ]
  },
  {
   "cell_type": "code",
   "execution_count": null,
   "id": "81304446",
   "metadata": {},
   "outputs": [],
   "source": [
    "int to complex"
   ]
  },
  {
   "cell_type": "code",
   "execution_count": 21,
   "id": "d2e321c6",
   "metadata": {},
   "outputs": [],
   "source": [
    "a=17"
   ]
  },
  {
   "cell_type": "code",
   "execution_count": 22,
   "id": "bb8d581f",
   "metadata": {},
   "outputs": [
    {
     "name": "stdout",
     "output_type": "stream",
     "text": [
      "(17+0j)\n",
      "<class 'complex'>\n"
     ]
    }
   ],
   "source": [
    "a_complex = complex(a)\n",
    "print(a_complex)\n",
    "print(type(a_complex))"
   ]
  },
  {
   "cell_type": "code",
   "execution_count": null,
   "id": "136f5322",
   "metadata": {},
   "outputs": [],
   "source": [
    "2. float"
   ]
  },
  {
   "cell_type": "code",
   "execution_count": 34,
   "id": "7e5bbef3",
   "metadata": {},
   "outputs": [],
   "source": [
    "b=15.6"
   ]
  },
  {
   "cell_type": "code",
   "execution_count": 35,
   "id": "e43b769c",
   "metadata": {},
   "outputs": [
    {
     "name": "stdout",
     "output_type": "stream",
     "text": [
      "<class 'float'>\n"
     ]
    }
   ],
   "source": [
    "b=15.6\n",
    "print(type(b))"
   ]
  },
  {
   "cell_type": "code",
   "execution_count": 36,
   "id": "00f8f952",
   "metadata": {},
   "outputs": [
    {
     "name": "stdout",
     "output_type": "stream",
     "text": [
      "15.6\n",
      "<class 'str'>\n"
     ]
    }
   ],
   "source": [
    "b_str=str(b)\n",
    "print(b_str)\n",
    "print(type(b_str))"
   ]
  },
  {
   "cell_type": "code",
   "execution_count": 37,
   "id": "04e2aa61",
   "metadata": {},
   "outputs": [
    {
     "name": "stdout",
     "output_type": "stream",
     "text": [
      "False\n",
      "<class 'bool'>\n"
     ]
    }
   ],
   "source": [
    "b_bool=bool(b)\n",
    "print(a_bool)\n",
    "print(type(a_bool))"
   ]
  },
  {
   "cell_type": "code",
   "execution_count": 38,
   "id": "d5cd3fae",
   "metadata": {},
   "outputs": [
    {
     "name": "stdout",
     "output_type": "stream",
     "text": [
      "(15.6+0j)\n",
      "<class 'complex'>\n"
     ]
    }
   ],
   "source": [
    "b_complex = complex(b)\n",
    "print(b_complex)\n",
    "print(type(b_complex))"
   ]
  },
  {
   "cell_type": "code",
   "execution_count": 39,
   "id": "a88c505b",
   "metadata": {},
   "outputs": [
    {
     "name": "stdout",
     "output_type": "stream",
     "text": [
      "15\n",
      "<class 'int'>\n"
     ]
    }
   ],
   "source": [
    "b_int=int(b)\n",
    "print(b_int)\n",
    "print(type(b_int))"
   ]
  },
  {
   "cell_type": "code",
   "execution_count": null,
   "id": "6a3f754b",
   "metadata": {},
   "outputs": [],
   "source": [
    "3.str()\n",
    "str converted into bool only"
   ]
  },
  {
   "cell_type": "code",
   "execution_count": 40,
   "id": "c7bbfe10",
   "metadata": {},
   "outputs": [
    {
     "name": "stdout",
     "output_type": "stream",
     "text": [
      "<class 'str'>\n"
     ]
    }
   ],
   "source": [
    "c= 'sanklap'\n",
    "print(type(c))"
   ]
  },
  {
   "cell_type": "code",
   "execution_count": 43,
   "id": "adbfc81c",
   "metadata": {},
   "outputs": [
    {
     "ename": "ValueError",
     "evalue": "invalid literal for int() with base 10: 'sanklap'",
     "output_type": "error",
     "traceback": [
      "\u001b[1;31m---------------------------------------------------------------------------\u001b[0m",
      "\u001b[1;31mValueError\u001b[0m                                Traceback (most recent call last)",
      "Input \u001b[1;32mIn [43]\u001b[0m, in \u001b[0;36m<cell line: 1>\u001b[1;34m()\u001b[0m\n\u001b[1;32m----> 1\u001b[0m c1\u001b[38;5;241m=\u001b[39m_int\u001b[38;5;241m=\u001b[39m\u001b[38;5;28;43mint\u001b[39;49m\u001b[43m(\u001b[49m\u001b[43mc\u001b[49m\u001b[43m)\u001b[49m\n\u001b[0;32m      2\u001b[0m \u001b[38;5;28mprint\u001b[39m(c1_int)\n\u001b[0;32m      3\u001b[0m \u001b[38;5;28mprint\u001b[39m(\u001b[38;5;28mtype\u001b[39m(c1_int))\n",
      "\u001b[1;31mValueError\u001b[0m: invalid literal for int() with base 10: 'sanklap'"
     ]
    }
   ],
   "source": [
    "c1=_int=int(c)\n",
    "print(c1_int)\n",
    "print(type(c1_int))"
   ]
  },
  {
   "cell_type": "code",
   "execution_count": 44,
   "id": "ab373fd9",
   "metadata": {},
   "outputs": [
    {
     "name": "stdout",
     "output_type": "stream",
     "text": [
      "True\n",
      "<class 'bool'>\n"
     ]
    }
   ],
   "source": [
    "c2_bool=bool(c)\n",
    "print(c2_bool)\n",
    "print(type(c2_bool))"
   ]
  },
  {
   "cell_type": "code",
   "execution_count": null,
   "id": "81fe2f49",
   "metadata": {},
   "outputs": [],
   "source": [
    "4. bool"
   ]
  },
  {
   "cell_type": "code",
   "execution_count": 53,
   "id": "c25337b2",
   "metadata": {},
   "outputs": [
    {
     "name": "stdout",
     "output_type": "stream",
     "text": [
      "<class 'bool'>\n"
     ]
    }
   ],
   "source": [
    "d = True\n",
    "print(type(d))"
   ]
  },
  {
   "cell_type": "code",
   "execution_count": 54,
   "id": "6fe9f90d",
   "metadata": {},
   "outputs": [
    {
     "name": "stdout",
     "output_type": "stream",
     "text": [
      "<class 'str'>\n",
      "True\n"
     ]
    }
   ],
   "source": [
    "d1=str(d)\n",
    "print(type(d1))\n",
    "print(d1)"
   ]
  },
  {
   "cell_type": "code",
   "execution_count": 55,
   "id": "cd1d0263",
   "metadata": {},
   "outputs": [
    {
     "name": "stdout",
     "output_type": "stream",
     "text": [
      "(1+0j)\n"
     ]
    }
   ],
   "source": [
    "d2 = complex(d)\n",
    "type(d2)\n",
    "print(d2)"
   ]
  },
  {
   "cell_type": "code",
   "execution_count": 56,
   "id": "42c0bd72",
   "metadata": {},
   "outputs": [
    {
     "data": {
      "text/plain": [
       "1"
      ]
     },
     "execution_count": 56,
     "metadata": {},
     "output_type": "execute_result"
    }
   ],
   "source": [
    "d3=int(d)\n",
    "type(d3)\n",
    "d3"
   ]
  },
  {
   "cell_type": "code",
   "execution_count": 58,
   "id": "e014790f",
   "metadata": {},
   "outputs": [
    {
     "data": {
      "text/plain": [
       "1.0"
      ]
     },
     "execution_count": 58,
     "metadata": {},
     "output_type": "execute_result"
    }
   ],
   "source": [
    "d4 = float(d)\n",
    "type(d4)\n",
    "d4"
   ]
  },
  {
   "cell_type": "code",
   "execution_count": null,
   "id": "e109cdd2",
   "metadata": {},
   "outputs": [],
   "source": [
    "complex"
   ]
  },
  {
   "cell_type": "code",
   "execution_count": 59,
   "id": "acfd6933",
   "metadata": {},
   "outputs": [
    {
     "data": {
      "text/plain": [
       "complex"
      ]
     },
     "execution_count": 59,
     "metadata": {},
     "output_type": "execute_result"
    }
   ],
   "source": [
    "e = 2+3j\n",
    "type(e)"
   ]
  },
  {
   "cell_type": "code",
   "execution_count": 60,
   "id": "c068a05b",
   "metadata": {},
   "outputs": [
    {
     "data": {
      "text/plain": [
       "'(2+3j)'"
      ]
     },
     "execution_count": 60,
     "metadata": {},
     "output_type": "execute_result"
    }
   ],
   "source": [
    "e1 = str(e)\n",
    "type(e1)\n",
    "e1"
   ]
  },
  {
   "cell_type": "code",
   "execution_count": 61,
   "id": "3ef6512c",
   "metadata": {},
   "outputs": [
    {
     "ename": "TypeError",
     "evalue": "can't convert complex to int",
     "output_type": "error",
     "traceback": [
      "\u001b[1;31m---------------------------------------------------------------------------\u001b[0m",
      "\u001b[1;31mTypeError\u001b[0m                                 Traceback (most recent call last)",
      "Input \u001b[1;32mIn [61]\u001b[0m, in \u001b[0;36m<cell line: 1>\u001b[1;34m()\u001b[0m\n\u001b[1;32m----> 1\u001b[0m e2 \u001b[38;5;241m=\u001b[39m \u001b[38;5;28;43mint\u001b[39;49m\u001b[43m(\u001b[49m\u001b[43me\u001b[49m\u001b[43m)\u001b[49m\n\u001b[0;32m      2\u001b[0m \u001b[38;5;28mtype\u001b[39m(e2)\n\u001b[0;32m      3\u001b[0m e2\n",
      "\u001b[1;31mTypeError\u001b[0m: can't convert complex to int"
     ]
    }
   ],
   "source": [
    "e2 = int(e)\n",
    "type(e2)\n",
    "e2"
   ]
  },
  {
   "cell_type": "code",
   "execution_count": 62,
   "id": "b06ce340",
   "metadata": {},
   "outputs": [
    {
     "ename": "TypeError",
     "evalue": "can't convert complex to float",
     "output_type": "error",
     "traceback": [
      "\u001b[1;31m---------------------------------------------------------------------------\u001b[0m",
      "\u001b[1;31mTypeError\u001b[0m                                 Traceback (most recent call last)",
      "Input \u001b[1;32mIn [62]\u001b[0m, in \u001b[0;36m<cell line: 1>\u001b[1;34m()\u001b[0m\n\u001b[1;32m----> 1\u001b[0m e3\u001b[38;5;241m=\u001b[39m \u001b[38;5;28;43mfloat\u001b[39;49m\u001b[43m(\u001b[49m\u001b[43me\u001b[49m\u001b[43m)\u001b[49m\n\u001b[0;32m      2\u001b[0m \u001b[38;5;28mtype\u001b[39m(e3)\n\u001b[0;32m      3\u001b[0m e3\n",
      "\u001b[1;31mTypeError\u001b[0m: can't convert complex to float"
     ]
    }
   ],
   "source": [
    "e3= float(e)\n",
    "type(e3)\n",
    "e3"
   ]
  },
  {
   "cell_type": "code",
   "execution_count": 63,
   "id": "344ee084",
   "metadata": {},
   "outputs": [
    {
     "data": {
      "text/plain": [
       "True"
      ]
     },
     "execution_count": 63,
     "metadata": {},
     "output_type": "execute_result"
    }
   ],
   "source": [
    "e4 = bool(e)\n",
    "type(e4)\n",
    "e4"
   ]
  },
  {
   "cell_type": "code",
   "execution_count": null,
   "id": "2e81d0a1",
   "metadata": {},
   "outputs": [],
   "source": [
    "ord()"
   ]
  },
  {
   "cell_type": "code",
   "execution_count": 65,
   "id": "7782e040",
   "metadata": {},
   "outputs": [
    {
     "data": {
      "text/plain": [
       "97"
      ]
     },
     "execution_count": 65,
     "metadata": {},
     "output_type": "execute_result"
    }
   ],
   "source": [
    "ord('a')"
   ]
  },
  {
   "cell_type": "code",
   "execution_count": null,
   "id": "61482781",
   "metadata": {},
   "outputs": [],
   "source": [
    "dict()"
   ]
  },
  {
   "cell_type": "code",
   "execution_count": 66,
   "id": "191425a5",
   "metadata": {},
   "outputs": [],
   "source": [
    "x = (('a',3),('f',4),('t',9))"
   ]
  },
  {
   "cell_type": "code",
   "execution_count": 67,
   "id": "89e9a246",
   "metadata": {},
   "outputs": [
    {
     "data": {
      "text/plain": [
       "tuple"
      ]
     },
     "execution_count": 67,
     "metadata": {},
     "output_type": "execute_result"
    }
   ],
   "source": [
    "type(x)"
   ]
  },
  {
   "cell_type": "code",
   "execution_count": 68,
   "id": "62a0b47f",
   "metadata": {},
   "outputs": [],
   "source": [
    "y=dict(x)"
   ]
  },
  {
   "cell_type": "code",
   "execution_count": 69,
   "id": "9e5cbdb0",
   "metadata": {},
   "outputs": [
    {
     "data": {
      "text/plain": [
       "{'a': 3, 'f': 4, 't': 9}"
      ]
     },
     "execution_count": 69,
     "metadata": {},
     "output_type": "execute_result"
    }
   ],
   "source": [
    "y"
   ]
  },
  {
   "cell_type": "code",
   "execution_count": null,
   "id": "e1a321c6",
   "metadata": {},
   "outputs": [],
   "source": []
  }
 ],
 "metadata": {
  "kernelspec": {
   "display_name": "Python 3 (ipykernel)",
   "language": "python",
   "name": "python3"
  },
  "language_info": {
   "codemirror_mode": {
    "name": "ipython",
    "version": 3
   },
   "file_extension": ".py",
   "mimetype": "text/x-python",
   "name": "python",
   "nbconvert_exporter": "python",
   "pygments_lexer": "ipython3",
   "version": "3.9.12"
  }
 },
 "nbformat": 4,
 "nbformat_minor": 5
}
